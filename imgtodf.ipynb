{
  "nbformat": 4,
  "nbformat_minor": 0,
  "metadata": {
    "colab": {
      "provenance": [],
      "authorship_tag": "ABX9TyPHiOeIvjjazytt0wNCskhI",
      "include_colab_link": true
    },
    "kernelspec": {
      "name": "python3",
      "display_name": "Python 3"
    },
    "language_info": {
      "name": "python"
    }
  },
  "cells": [
    {
      "cell_type": "markdown",
      "metadata": {
        "id": "view-in-github",
        "colab_type": "text"
      },
      "source": [
        "<a href=\"https://colab.research.google.com/github/rohankhadgi33/Autocomplete/blob/main/imgtodf.ipynb\" target=\"_parent\"><img src=\"https://colab.research.google.com/assets/colab-badge.svg\" alt=\"Open In Colab\"/></a>"
      ]
    },
    {
      "cell_type": "markdown",
      "source": [
        "Open Colab and upload the image from the top left part of Colab. Rename the image to a.jpg. Then run the script. The distance_field.png should be created in the File section, if you do not see it refresh the file section and you should be able to see it.\n"
      ],
      "metadata": {
        "id": "7AcSmaSoDipt"
      }
    },
    {
      "cell_type": "code",
      "source": [
        "import numpy as np\n",
        "import matplotlib.pyplot as plt\n",
        "from skimage.morphology import medial_axis\n",
        "from skimage.util import invert\n",
        "from skimage.color import rgb2gray, rgba2rgb\n",
        "from scipy.ndimage import distance_transform_edt\n",
        "\n",
        "# Load image and convert to binary\n",
        "skeletonImage = plt.imread('a.jpg')\n",
        "if skeletonImage.ndim == 3 and skeletonImage.shape[2] == 4:\n",
        "    skeletonImage = rgba2rgb(skeletonImage)\n",
        "binaryImage = invert(rgb2gray(skeletonImage)) > 0.5\n",
        "\n",
        "# Get the skeleton of the image\n",
        "skeleton, _ = medial_axis(binaryImage, return_distance=True)\n",
        "\n",
        "# Generate the distance field\n",
        "distanceField = distance_transform_edt(binaryImage)\n",
        "\n",
        "# Normalize distance field to range [0,1]\n",
        "distanceField /= distanceField.max()\n",
        "\n",
        "# Save the distance field as PNG\n",
        "plt.imsave('distance_field.png', distanceField, cmap='gray')\n",
        "\n",
        "\n",
        "# Display the distance field\n",
        "#plt.imshow(distanceField, cmap='gray')\n",
        "#plt.show()\n"
      ],
      "metadata": {
        "id": "eZa-1OzhCMht"
      },
      "execution_count": 1,
      "outputs": []
    }
  ]
}